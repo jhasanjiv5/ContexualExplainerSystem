{
 "cells": [
  {
   "cell_type": "code",
   "execution_count": 456,
   "metadata": {},
   "outputs": [],
   "source": [
    "import pandas as pd\n",
    "import numpy as np"
   ]
  },
  {
   "cell_type": "code",
   "execution_count": 457,
   "metadata": {},
   "outputs": [
    {
     "data": {
      "text/html": [
       "<div>\n",
       "<style scoped>\n",
       "    .dataframe tbody tr th:only-of-type {\n",
       "        vertical-align: middle;\n",
       "    }\n",
       "\n",
       "    .dataframe tbody tr th {\n",
       "        vertical-align: top;\n",
       "    }\n",
       "\n",
       "    .dataframe thead th {\n",
       "        text-align: right;\n",
       "    }\n",
       "</style>\n",
       "<table border=\"1\" class=\"dataframe\">\n",
       "  <thead>\n",
       "    <tr style=\"text-align: right;\">\n",
       "      <th></th>\n",
       "      <th>time_index</th>\n",
       "      <th>entity_id</th>\n",
       "      <th>faixa</th>\n",
       "      <th>vehiclelight</th>\n",
       "      <th>speedlight</th>\n",
       "      <th>vehicleheavy</th>\n",
       "      <th>speedheavy</th>\n",
       "      <th>vehicleothers</th>\n",
       "      <th>speedothers</th>\n",
       "      <th>accelerationlight</th>\n",
       "      <th>accelerationheavy</th>\n",
       "      <th>accelerationothers</th>\n",
       "    </tr>\n",
       "  </thead>\n",
       "  <tbody>\n",
       "    <tr>\n",
       "      <th>0</th>\n",
       "      <td>2022-09-01 00:00:00.1+00</td>\n",
       "      <td>urn:ngsi-ld:Traffic:aveiro_radar:p30</td>\n",
       "      <td>2</td>\n",
       "      <td>1</td>\n",
       "      <td>10.361539</td>\n",
       "      <td>0</td>\n",
       "      <td>0.0</td>\n",
       "      <td>0</td>\n",
       "      <td>0.0</td>\n",
       "      <td>-0.060810</td>\n",
       "      <td>0.0</td>\n",
       "      <td>0.0</td>\n",
       "    </tr>\n",
       "    <tr>\n",
       "      <th>1</th>\n",
       "      <td>2022-09-01 00:00:00+00</td>\n",
       "      <td>urn:ngsi-ld:Traffic:aveiro_radar:p35</td>\n",
       "      <td>1</td>\n",
       "      <td>1</td>\n",
       "      <td>14.400000</td>\n",
       "      <td>0</td>\n",
       "      <td>0.0</td>\n",
       "      <td>0</td>\n",
       "      <td>0.0</td>\n",
       "      <td>0.190606</td>\n",
       "      <td>0.0</td>\n",
       "      <td>0.0</td>\n",
       "    </tr>\n",
       "    <tr>\n",
       "      <th>2</th>\n",
       "      <td>2022-09-01 00:00:00.1+00</td>\n",
       "      <td>urn:ngsi-ld:Traffic:aveiro_radar:p35</td>\n",
       "      <td>2</td>\n",
       "      <td>1</td>\n",
       "      <td>6.392857</td>\n",
       "      <td>0</td>\n",
       "      <td>0.0</td>\n",
       "      <td>0</td>\n",
       "      <td>0.0</td>\n",
       "      <td>-0.175471</td>\n",
       "      <td>0.0</td>\n",
       "      <td>0.0</td>\n",
       "    </tr>\n",
       "    <tr>\n",
       "      <th>3</th>\n",
       "      <td>2022-09-01 00:00:01.1+00</td>\n",
       "      <td>urn:ngsi-ld:Traffic:aveiro_radar:p30</td>\n",
       "      <td>2</td>\n",
       "      <td>1</td>\n",
       "      <td>9.992308</td>\n",
       "      <td>0</td>\n",
       "      <td>0.0</td>\n",
       "      <td>0</td>\n",
       "      <td>0.0</td>\n",
       "      <td>-0.109764</td>\n",
       "      <td>0.0</td>\n",
       "      <td>0.0</td>\n",
       "    </tr>\n",
       "    <tr>\n",
       "      <th>4</th>\n",
       "      <td>2022-09-01 00:00:01+00</td>\n",
       "      <td>urn:ngsi-ld:Traffic:aveiro_radar:p35</td>\n",
       "      <td>1</td>\n",
       "      <td>1</td>\n",
       "      <td>15.200000</td>\n",
       "      <td>0</td>\n",
       "      <td>0.0</td>\n",
       "      <td>0</td>\n",
       "      <td>0.0</td>\n",
       "      <td>0.109569</td>\n",
       "      <td>0.0</td>\n",
       "      <td>0.0</td>\n",
       "    </tr>\n",
       "  </tbody>\n",
       "</table>\n",
       "</div>"
      ],
      "text/plain": [
       "                 time_index                             entity_id  faixa  \\\n",
       "0  2022-09-01 00:00:00.1+00  urn:ngsi-ld:Traffic:aveiro_radar:p30      2   \n",
       "1    2022-09-01 00:00:00+00  urn:ngsi-ld:Traffic:aveiro_radar:p35      1   \n",
       "2  2022-09-01 00:00:00.1+00  urn:ngsi-ld:Traffic:aveiro_radar:p35      2   \n",
       "3  2022-09-01 00:00:01.1+00  urn:ngsi-ld:Traffic:aveiro_radar:p30      2   \n",
       "4    2022-09-01 00:00:01+00  urn:ngsi-ld:Traffic:aveiro_radar:p35      1   \n",
       "\n",
       "   vehiclelight  speedlight  vehicleheavy  speedheavy  vehicleothers  \\\n",
       "0             1   10.361539             0         0.0              0   \n",
       "1             1   14.400000             0         0.0              0   \n",
       "2             1    6.392857             0         0.0              0   \n",
       "3             1    9.992308             0         0.0              0   \n",
       "4             1   15.200000             0         0.0              0   \n",
       "\n",
       "   speedothers  accelerationlight  accelerationheavy  accelerationothers  \n",
       "0          0.0          -0.060810                0.0                 0.0  \n",
       "1          0.0           0.190606                0.0                 0.0  \n",
       "2          0.0          -0.175471                0.0                 0.0  \n",
       "3          0.0          -0.109764                0.0                 0.0  \n",
       "4          0.0           0.109569                0.0                 0.0  "
      ]
     },
     "execution_count": 457,
     "metadata": {},
     "output_type": "execute_result"
    }
   ],
   "source": [
    "dw_traffic = pd.read_csv(\"counterfactuals.csv\")\n",
    "dw_traffic.dropna(axis=0, inplace=True)\n",
    "dw_traffic.head()"
   ]
  },
  {
   "attachments": {},
   "cell_type": "markdown",
   "metadata": {},
   "source": [
    "Train 1-NN classifier"
   ]
  },
  {
   "cell_type": "code",
   "execution_count": null,
   "metadata": {},
   "outputs": [],
   "source": [
    "from sklearn.model_selection import train_test_split\n",
    "from sklearn.preprocessing import StandardScaler,OneHotEncoder\n",
    "\n",
    "X_train, X_test, y_train, y_test = train_test_split(X, y, test_size=0.2)\n",
    "\n",
    "scaler = StandardScaler()\n",
    "X_train = scaler.fit_transform(X_train)\n",
    "X_test = scaler.transform(X_test)"
   ]
  },
  {
   "cell_type": "code",
   "execution_count": null,
   "metadata": {},
   "outputs": [],
   "source": [
    "from sklearn.neighbors import KNeighborsClassifier\n",
    "knn = KNeighborsClassifier(n_neighbors=1)\n",
    "knn.fit(X_train, y_train)"
   ]
  },
  {
   "cell_type": "code",
   "execution_count": null,
   "metadata": {},
   "outputs": [],
   "source": [
    "from sklearn.metrics import accuracy_score, precision_score, recall_score\n",
    "y_pred = knn.predict(X_test)\n",
    "\n",
    "accuracy = accuracy_score(y_test, y_pred)\n",
    "precision = precision_score(y_test, y_pred)\n",
    "recall = recall_score(y_test, y_pred)\n",
    "\n",
    "print(\"Accuracy:\", accuracy)\n",
    "print(\"Precision:\", precision)\n",
    "print(\"Recall:\", recall)"
   ]
  }
 ],
 "metadata": {
  "kernelspec": {
   "display_name": "base",
   "language": "python",
   "name": "python3"
  },
  "language_info": {
   "codemirror_mode": {
    "name": "ipython",
    "version": 3
   },
   "file_extension": ".py",
   "mimetype": "text/x-python",
   "name": "python",
   "nbconvert_exporter": "python",
   "pygments_lexer": "ipython3",
   "version": "3.8.2"
  },
  "orig_nbformat": 4,
  "vscode": {
   "interpreter": {
    "hash": "9f1d8986ad4049e8755020057f91453e061f1b37df5f3b47ec05b488e55fd81c"
   }
  }
 },
 "nbformat": 4,
 "nbformat_minor": 2
}
